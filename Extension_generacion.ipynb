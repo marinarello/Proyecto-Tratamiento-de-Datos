{
 "cells": [
  {
   "cell_type": "code",
   "execution_count": 4,
   "metadata": {},
   "outputs": [],
   "source": [
    "import pandas as pd\n",
    "from transformers import GPT2Tokenizer, GPT2LMHeadModel, Trainer, TrainingArguments, TextDataset, DataCollatorForLanguageModeling\n",
    "from transformers import pipeline\n",
    "import os\n",
    "import numpy as np"
   ]
  },
  {
   "cell_type": "code",
   "execution_count": 5,
   "metadata": {},
   "outputs": [],
   "source": [
    "fichero = \"C:/Users/Marina/Documents/Marina/Universidad/Máster/Curso 1/Cuatrimestre 1/Tratamiento de Datos/Proyecto_datos/full_format_recipes.json\"\n",
    "data = pd.read_json(fichero)\n",
    "data.replace(r'^\\s*$', np.nan, regex=True, inplace=True)  # Reemplazar cadenas vacías por NaN\n",
    "data_clean = data.dropna()\n",
    "data_numeric = data_clean.select_dtypes(include=['number'])\n",
    "\n",
    "# Copia del DataFrame original para aplicar la limpieza\n",
    "data_cleaned = data_clean.copy()\n",
    "\n",
    "exclude_column = 'rating'\n",
    "# Iterar columna por columna y eliminar outliers usando IQR\n",
    "for column in data_numeric.columns:\n",
    "    if column == exclude_column:  # Saltar la columna 'fat'\n",
    "        continue\n",
    "    Q1 = data_cleaned[column].quantile(0.25)  # Primer cuartil\n",
    "    Q3 = data_cleaned[column].quantile(0.75)  # Tercer cuartil\n",
    "    IQR = Q3 - Q1                             # Rango intercuartílico\n",
    "\n",
    "    # Definir los límites\n",
    "    lower_bound = Q1 - 2 * IQR\n",
    "    upper_bound = Q3 + 2 * IQR\n",
    "\n",
    "    # Filtrar filas dentro de los límites para la columna actual\n",
    "    data_cleaned = data_cleaned[\n",
    "        (data_cleaned[column] >= lower_bound) & (data_cleaned[column] <= upper_bound)\n",
    "    ]"
   ]
  },
  {
   "cell_type": "code",
   "execution_count": null,
   "metadata": {},
   "outputs": [
    {
     "name": "stderr",
     "output_type": "stream",
     "text": [
      "C:\\Users\\Marina\\AppData\\Local\\Temp\\ipykernel_17240\\1763135968.py:1: SettingWithCopyWarning: \n",
      "A value is trying to be set on a copy of a slice from a DataFrame.\n",
      "Try using .loc[row_indexer,col_indexer] = value instead\n",
      "\n",
      "See the caveats in the documentation: https://pandas.pydata.org/pandas-docs/stable/user_guide/indexing.html#returning-a-view-versus-a-copy\n",
      "  data_cleaned_500['texto_entrada'] = \"Ingredientes: \" + data_cleaned_500['ingredients'].astype(str)\n",
      "C:\\Users\\Marina\\AppData\\Local\\Temp\\ipykernel_17240\\1763135968.py:2: SettingWithCopyWarning: \n",
      "A value is trying to be set on a copy of a slice from a DataFrame.\n",
      "Try using .loc[row_indexer,col_indexer] = value instead\n",
      "\n",
      "See the caveats in the documentation: https://pandas.pydata.org/pandas-docs/stable/user_guide/indexing.html#returning-a-view-versus-a-copy\n",
      "  data_cleaned_500['texto_salida'] = \"Título: \" + data_cleaned_500['title'].astype(str)\n",
      "C:\\Users\\Marina\\AppData\\Local\\Packages\\PythonSoftwareFoundation.Python.3.11_qbz5n2kfra8p0\\LocalCache\\local-packages\\Python311\\site-packages\\transformers\\data\\datasets\\language_modeling.py:53: FutureWarning: This dataset will be removed from the library soon, preprocessing should be handled with the 🤗 Datasets library. You can have a look at this example script for pointers: https://github.com/huggingface/transformers/blob/main/examples/pytorch/language-modeling/run_mlm.py\n",
      "  warnings.warn(\n",
      " 17%|█▋        | 50/291 [31:43<2:30:09, 37.38s/it]"
     ]
    },
    {
     "name": "stdout",
     "output_type": "stream",
     "text": [
      "{'loss': 2.0788, 'grad_norm': 3.2403786182403564, 'learning_rate': 4.140893470790378e-05, 'epoch': 0.17}\n"
     ]
    },
    {
     "name": "stderr",
     "output_type": "stream",
     "text": [
      " 34%|███▍      | 100/291 [1:08:19<2:23:18, 45.02s/it]"
     ]
    },
    {
     "name": "stdout",
     "output_type": "stream",
     "text": [
      "{'loss': 1.8471, 'grad_norm': 3.0511066913604736, 'learning_rate': 3.2817869415807564e-05, 'epoch': 0.34}\n"
     ]
    },
    {
     "name": "stderr",
     "output_type": "stream",
     "text": [
      " 52%|█████▏    | 150/291 [1:52:30<2:32:25, 64.86s/it] "
     ]
    },
    {
     "name": "stdout",
     "output_type": "stream",
     "text": [
      "{'loss': 1.7796, 'grad_norm': 3.520819664001465, 'learning_rate': 2.422680412371134e-05, 'epoch': 0.52}\n"
     ]
    },
    {
     "name": "stderr",
     "output_type": "stream",
     "text": [
      " 55%|█████▍    | 160/291 [2:01:01<1:46:36, 48.83s/it]"
     ]
    }
   ],
   "source": [
    "data_cleaned['texto_entrada'] = \"Ingredientes: \" + data_cleaned['ingredients'].astype(str)\n",
    "data_cleaned['texto_salida'] = \"Título: \" + data_cleaned['title'].astype(str)\n",
    "\n",
    "train_data = data_cleaned[['texto_entrada', 'texto_salida']]\n",
    "train_data_formatted = train_data.apply(lambda row: f\"{row['texto_entrada']} {row['texto_salida']}\", axis=1)\n",
    "\n",
    "train_file = \"titulos_generados.txt\"\n",
    "train_data_formatted.to_csv(train_file, index=False, header=False)\n",
    "\n",
    "def load_dataset(file_path, tokenizer, block_size=512):\n",
    "    return TextDataset(\n",
    "        tokenizer=tokenizer,\n",
    "        file_path=file_path,\n",
    "        block_size=block_size\n",
    "    )\n",
    "\n",
    "tokenizer = GPT2Tokenizer.from_pretrained(\"gpt2\")\n",
    "model = GPT2LMHeadModel.from_pretrained(\"gpt2\")\n",
    "\n",
    "dataset = load_dataset(train_file, tokenizer)\n",
    "\n",
    "data_collator = DataCollatorForLanguageModeling(tokenizer=tokenizer, mlm=False)\n",
    "\n",
    "# Configurar los argumentos de entrenamiento\n",
    "training_args = TrainingArguments(\n",
    "    output_dir=\"./results\",\n",
    "    overwrite_output_dir=True,\n",
    "    num_train_epochs=1,  \n",
    "    per_device_train_batch_size=8,  \n",
    "    save_steps=100,  \n",
    "    save_total_limit=1,  \n",
    "    logging_dir=\"./logs\",\n",
    "    logging_steps=50  \n",
    ")\n",
    "\n",
    "\n",
    "# Inicializamos el Trainer\n",
    "trainer = Trainer(\n",
    "    model=model,\n",
    "    args=training_args,\n",
    "    data_collator=data_collator,\n",
    "    train_dataset=dataset\n",
    ")\n",
    "\n",
    "# Entrenamos el modelo\n",
    "trainer.train()\n",
    "\n",
    "# Guardamos el modelo entrenado\n",
    "output_dir = \"./fine_tuned_gpt2_recipes\"\n",
    "model.save_pretrained(output_dir)\n",
    "tokenizer.save_pretrained(output_dir)\n",
    "\n",
    "\n",
    "model = GPT2LMHeadModel.from_pretrained(output_dir)\n",
    "tokenizer = GPT2Tokenizer.from_pretrained(output_dir)\n",
    "\n",
    "# Generamos receta a partir del titulo\n",
    "def generar_receta(ingredientes, max_length=20):\n",
    "    prompt = f\"Ingredientes: {ingredientes}\\nTítulo:\"\n",
    "    inputs = tokenizer.encode(prompt, return_tensors=\"pt\")\n",
    "    output = model.generate(\n",
    "        inputs, \n",
    "        max_length=max_length, \n",
    "        num_return_sequences=1, \n",
    "        do_sample=True, \n",
    "        temperature=0.7\n",
    "    )\n",
    "    return tokenizer.decode(output[0], skip_special_tokens=True)"
   ]
  },
  {
   "cell_type": "code",
   "execution_count": null,
   "metadata": {},
   "outputs": [],
   "source": [
    "ingredientes = \" \"\n",
    "\n",
    "resultado = generar_receta(ingredientes)\n",
    "print(resultado)"
   ]
  }
 ],
 "metadata": {
  "kernelspec": {
   "display_name": "Python 3",
   "language": "python",
   "name": "python3"
  },
  "language_info": {
   "codemirror_mode": {
    "name": "ipython",
    "version": 3
   },
   "file_extension": ".py",
   "mimetype": "text/x-python",
   "name": "python",
   "nbconvert_exporter": "python",
   "pygments_lexer": "ipython3",
   "version": "3.11.9"
  }
 },
 "nbformat": 4,
 "nbformat_minor": 2
}
